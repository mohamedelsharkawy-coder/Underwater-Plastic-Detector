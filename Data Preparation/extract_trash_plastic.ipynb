{
 "cells": [
  {
   "cell_type": "code",
   "execution_count": 1,
   "id": "17080278-d727-4f19-a7c0-2b1dbb0fed06",
   "metadata": {},
   "outputs": [],
   "source": [
    "import os\n",
    "import json\n",
    "import shutil"
   ]
  },
  {
   "cell_type": "code",
   "execution_count": 2,
   "id": "590200d6-b1ff-4940-a009-0f3e85a0f248",
   "metadata": {},
   "outputs": [],
   "source": [
    "# define paths for annotation folders\n",
    "INSTANCE_TRAIN_ANN_PATH = os.path.join('trashcan-10-DatasetNinja', 'instance train', 'ann')\n",
    "INSTANCE_VAL_ANN_PATH = os.path.join('trashcan-10-DatasetNinja', 'instance val', 'ann')\n",
    "MATERIALS_TRAIN_ANN_PATH = os.path.join('trashcan-10-DatasetNinja', 'materials train', 'ann')\n",
    "MATERIALS_VAL_ANN_PATH = os.path.join('trashcan-10-DatasetNinja', 'materials val', 'ann')\n",
    "\n",
    "# define paths for images folder\n",
    "folders_paths = [INSTANCE_TRAIN_ANN_PATH, INSTANCE_VAL_ANN_PATH, MATERIALS_TRAIN_ANN_PATH, MATERIALS_VAL_ANN_PATH]"
   ]
  },
  {
   "cell_type": "code",
   "execution_count": 3,
   "id": "1459e456-7ce8-4371-a544-380e966a017c",
   "metadata": {},
   "outputs": [],
   "source": [
    "# for folder_path in folders_paths[:1]:\n",
    "#     json_file_name = os.listdir(folder_path)[0]\n",
    "#     json_file_path = os.path.join(folder_path, json_file_name)\n",
    "#     with open(json_file_path,'r') as json_file:\n",
    "#         result = json.load(json_file)\n",
    "    \n",
    "#     print('.'.join(json_file_name.split('.')[:-1]))\n",
    "#     print(json_file_name)\n",
    "\n",
    "# print(result.keys())\n",
    "# print(type(result['objects']))\n",
    "# print(len(result['objects'])) # number of objects detected in the image\n",
    "# # the only case that i will get the image is there is only objects of class_title = 'trash plastic' \n",
    "# for obj in result['objects']:\n",
    "#     print(obj['classTitle'])\n",
    "    \n"
   ]
  },
  {
   "cell_type": "markdown",
   "id": "b89ad77f-6c80-4430-bf2d-37f12784f06d",
   "metadata": {},
   "source": [
    "# The Important Code"
   ]
  },
  {
   "cell_type": "code",
   "execution_count": 20,
   "id": "22ad7e01-3fbe-4483-8fd0-567d6a6912db",
   "metadata": {
    "scrolled": true,
    "tags": []
   },
   "outputs": [
    {
     "name": "stdout",
     "output_type": "stream",
     "text": [
      "--------------------------------- trashcan-10-DatasetNinja\\instance train\\ann --------------------------\n",
      "363\n",
      "--------------------------------- trashcan-10-DatasetNinja\\instance val\\ann --------------------------\n",
      "93\n",
      "--------------------------------- trashcan-10-DatasetNinja\\materials train\\ann --------------------------\n",
      "1412\n",
      "--------------------------------- trashcan-10-DatasetNinja\\materials val\\ann --------------------------\n",
      "341\n"
     ]
    }
   ],
   "source": [
    "counter_name = 0\n",
    "for folder_path in folders_paths:\n",
    "    print(f'--------------------------------- {folder_path} --------------------------')\n",
    "    counter = 0\n",
    "    for json_file_name in os.listdir(folder_path):\n",
    "        # print(f'{json_file_name}')\n",
    "        # get json file path \n",
    "        json_file_path = os.path.join(folder_path, json_file_name)\n",
    "        # read the json file \n",
    "        with open(json_file_path,'r') as json_file:\n",
    "            result = json.load(json_file)\n",
    "      \n",
    "        for obj in result['objects']:\n",
    "            # if at least 1 object is from trash plastic get it\n",
    "            if obj['classTitle'] == 'trash plastic' and  obj['geometryType'] == 'rectangle':\n",
    "                # define the image name\n",
    "                image_name = '.'.join(json_file_name.split('.')[:-1])\n",
    "\n",
    "                # determine which folder the image is\n",
    "                if folder_path == INSTANCE_TRAIN_ANN_PATH:\n",
    "                    image_path = os.path.join('trashcan-10-DatasetNinja', 'instance train', 'img', image_name)\n",
    "\n",
    "                elif folder_path == INSTANCE_VAL_ANN_PATH:\n",
    "                    image_path = os.path.join('trashcan-10-DatasetNinja', 'instance val', 'img', image_name)\n",
    "\n",
    "                elif folder_path == MATERIALS_TRAIN_ANN_PATH:\n",
    "                    image_path = os.path.join('trashcan-10-DatasetNinja', 'materials train', 'img', image_name)\n",
    "\n",
    "                else:\n",
    "                    image_path = os.path.join('trashcan-10-DatasetNinja', 'materials val', 'img', image_name)\n",
    "\n",
    "                counter_name += 1\n",
    "                img_dest = os.path.join('extracted_trash_plastic', f'{counter_name}_{image_name}')\n",
    "                ann_dest = os.path.join('extracted_trash_plastic', f'{counter_name}_{json_file_name}')\n",
    "                \n",
    "                \n",
    "                shutil.copy(image_path, img_dest)\n",
    "                shutil.copy(json_file_path, ann_dest)\n",
    "                \n",
    "                counter += 1\n",
    "                \n",
    "                \n",
    "                break\n",
    "    \n",
    "    print(counter)\n",
    "        \n",
    "                \n",
    "\n",
    "                \n",
    "            "
   ]
  },
  {
   "cell_type": "code",
   "execution_count": 5,
   "id": "074eb27d-c943-4a9f-be1b-f5c5dddff6a7",
   "metadata": {
    "tags": []
   },
   "outputs": [],
   "source": [
    "# src = os.path.join('trashcan-10-DatasetNinja', 'instance train', 'img', 'vid_000003_frame0000007.jpg')\n",
    "# dest = os.path.join('final_data', 'vid_000003_frame0000007.jpg')\n",
    "# shutil.copy(src, dest)"
   ]
  },
  {
   "cell_type": "code",
   "execution_count": 18,
   "id": "8a0deb08-dae2-45f1-bd7f-7aceef50268e",
   "metadata": {
    "scrolled": true,
    "tags": []
   },
   "outputs": [
    {
     "name": "stdout",
     "output_type": "stream",
     "text": [
      "--------------------------------- trashcan-10-DatasetNinja\\instance train\\ann --------------------------\n",
      "363\n",
      "--------------------------------- trashcan-10-DatasetNinja\\instance val\\ann --------------------------\n",
      "93\n",
      "--------------------------------- trashcan-10-DatasetNinja\\materials train\\ann --------------------------\n",
      "1412\n",
      "--------------------------------- trashcan-10-DatasetNinja\\materials val\\ann --------------------------\n",
      "341\n",
      "2209\n"
     ]
    }
   ],
   "source": [
    "trash_plastic_images = 0\n",
    "for folder_path in folders_paths:\n",
    "    counter = 0\n",
    "    print(f'--------------------------------- {folder_path} --------------------------')\n",
    "    for json_file_name in os.listdir(folder_path):\n",
    "        # get json file path \n",
    "        json_file_path = os.path.join(folder_path, json_file_name)\n",
    "        # read the json file \n",
    "        with open(json_file_path,'r') as json_file:\n",
    "            result = json.load(json_file)\n",
    "        # see each object, and check if all are trash plastic or not\n",
    "        # number_of_objects = len(result['objects'])\n",
    "        for obj in result['objects']:\n",
    "            if obj['classTitle'] == 'trash plastic' and  obj['geometryType'] == 'rectangle':\n",
    "                \n",
    "                counter += 1\n",
    "                trash_plastic_images += 1\n",
    "                break\n",
    "    print(counter)\n",
    "\n",
    "print(trash_plastic_images)\n",
    "            \n",
    "                \n",
    "            "
   ]
  },
  {
   "cell_type": "code",
   "execution_count": null,
   "id": "caa5f83f-5495-4ccc-8ddb-9f2951c1e48a",
   "metadata": {},
   "outputs": [],
   "source": [
    "# 61"
   ]
  },
  {
   "cell_type": "code",
   "execution_count": null,
   "id": "8b5e3c48-3e49-4cb4-a889-30c0698c7e00",
   "metadata": {},
   "outputs": [],
   "source": []
  },
  {
   "cell_type": "code",
   "execution_count": null,
   "id": "662c09da-4dc2-48ec-86a9-8d188e3e3784",
   "metadata": {},
   "outputs": [],
   "source": []
  }
 ],
 "metadata": {
  "kernelspec": {
   "display_name": "Python 3 (ipykernel)",
   "language": "python",
   "name": "python3"
  },
  "language_info": {
   "codemirror_mode": {
    "name": "ipython",
    "version": 3
   },
   "file_extension": ".py",
   "mimetype": "text/x-python",
   "name": "python",
   "nbconvert_exporter": "python",
   "pygments_lexer": "ipython3",
   "version": "3.9.13"
  }
 },
 "nbformat": 4,
 "nbformat_minor": 5
}
